{
 "cells": [
  {
   "cell_type": "code",
   "execution_count": 1,
   "metadata": {},
   "outputs": [
    {
     "name": "stdout",
     "output_type": "stream",
     "text": [
      "ERROR: p*_s16_t97.tif is missing\n",
      "ERROR: p*_s5_t163.tif is missing\n",
      "ERROR: p*_s5_t186.tif is missing\n",
      "ERROR: p*_s7_t10.tif is missing\n",
      "ERROR: p*_s7_t104.tif is missing\n",
      "ERROR: p*_s7_t107.tif is missing\n",
      "ERROR: p*_s7_t141.tif is missing\n",
      "ERROR: p*_s8_t17.tif is missing\n",
      "ERROR: p*_s8_t147.tif is missing\n"
     ]
    }
   ],
   "source": [
    "import re\n",
    "import os\n",
    "import random\n",
    "\n",
    "filename_regex = re.compile('.*p[0-9]*_s([0-9]+)_t([0-9]+)\\\\.(TIF|TIFF|tif|tiff)');\n",
    "\n",
    "input_folder = \"optotaxisbucket/movies/2022.2.7 Random Migration\"\n",
    "\n",
    "if input_folder.startswith(\"optotaxisbucket\"):\n",
    "    files = !gsutil ls \"gs://{input_folder}\"\n",
    "    if any([f.startswith(\"CommandException\") for f in files]):\n",
    "        print(\"\\n\".join(files));\n",
    "else:\n",
    "    files = os.listdir(input_folder);\n",
    "\n",
    "# files.remove(random.choice(files));\n",
    "# print(files[0]);\n",
    "\n",
    "# print(\"\\n\".join(files));\n",
    "\n",
    "movies_shape:dict[int,list[int]] = {};\n",
    "\n",
    "for f in files:\n",
    "    mat = filename_regex.match(f);\n",
    "    if not mat:\n",
    "        continue;\n",
    "    # print(\"hello\");\n",
    "    stage,frame,_ = mat.groups();\n",
    "    if stage not in movies_shape:\n",
    "        movies_shape[stage] = [];\n",
    "    movies_shape[stage].append(int(frame));\n",
    "\n",
    "# print(movies_shape);\n",
    "\n",
    "for m in movies_shape:\n",
    "    l = sorted(movies_shape[m]);\n",
    "    for i in range(min(l),max(l)+1):\n",
    "        if i not in l:\n",
    "            print(f\"ERROR: p*_s{m}_t{i}.tif is missing\");"
   ]
  },
  {
   "cell_type": "code",
   "execution_count": null,
   "metadata": {},
   "outputs": [],
   "source": []
  }
 ],
 "metadata": {
  "kernelspec": {
   "display_name": "Python 3.10.4 64-bit",
   "language": "python",
   "name": "python3"
  },
  "language_info": {
   "codemirror_mode": {
    "name": "ipython",
    "version": 3
   },
   "file_extension": ".py",
   "mimetype": "text/x-python",
   "name": "python",
   "nbconvert_exporter": "python",
   "pygments_lexer": "ipython3",
   "version": "3.10.4"
  },
  "orig_nbformat": 4,
  "vscode": {
   "interpreter": {
    "hash": "1fab5b2657ca90398e2f7d6e349d246f9168433ae93312ee9b22cab62345ecaa"
   }
  }
 },
 "nbformat": 4,
 "nbformat_minor": 2
}
