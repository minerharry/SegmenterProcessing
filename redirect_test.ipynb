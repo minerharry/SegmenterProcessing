{
 "cells": [
  {
   "cell_type": "code",
   "execution_count": 2,
   "metadata": {},
   "outputs": [
    {
     "name": "stdout",
     "output_type": "stream",
     "text": [
      "gs://optotaxisbucket/matt_movies/\n",
      "gs://optotaxisbucket/matt_movies/2023.06.07/\n",
      "gs://optotaxisbucket/matt_movies/20230718/\n",
      "gs://optotaxisbucket/matt_movies/DMSO/\n",
      "gs://optotaxisbucket/matt_movies/Dasatinib/\n",
      "gs://optotaxisbucket/matt_movies/test/\n"
     ]
    }
   ],
   "source": [
    "import contextlib\n",
    "with open(\"out.txt\",\"w\") as out:\n",
    "    with contextlib.redirect_stdout(out):\n",
    "        !gsutil ls \"gs://optotaxisbucket/matt_movies\""
   ]
  },
  {
   "cell_type": "code",
   "execution_count": null,
   "metadata": {},
   "outputs": [],
   "source": []
  }
 ],
 "metadata": {
  "kernelspec": {
   "display_name": "Python 3.10.4 64-bit",
   "language": "python",
   "name": "python3"
  },
  "language_info": {
   "codemirror_mode": {
    "name": "ipython",
    "version": 3
   },
   "file_extension": ".py",
   "mimetype": "text/x-python",
   "name": "python",
   "nbconvert_exporter": "python",
   "pygments_lexer": "ipython3",
   "version": "3.10.4"
  },
  "orig_nbformat": 4,
  "vscode": {
   "interpreter": {
    "hash": "1fab5b2657ca90398e2f7d6e349d246f9168433ae93312ee9b22cab62345ecaa"
   }
  }
 },
 "nbformat": 4,
 "nbformat_minor": 2
}
