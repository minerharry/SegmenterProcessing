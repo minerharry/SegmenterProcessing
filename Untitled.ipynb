{
 "cells": [
  {
   "cell_type": "code",
   "execution_count": 2,
   "id": "b126800b-6ec2-4b86-80c0-5e3c33baa3ab",
   "metadata": {},
   "outputs": [],
   "source": [
    "import numpy as np\n",
    "\n",
    "def cleanascii(A):\n",
    "    A[(A < 0x20) | (A > 0x7e)] = np.uint8(ord('.'))\n",
    "    return A\n",
    "\n",
    "def xxd(x, start=0, stop=None):\n",
    "    if stop is None:\n",
    "        stop = len(x)\n",
    "    for i in range(start // 8 * 8, stop, 8):\n",
    "        row = range(i, min(i + 8, stop))\n",
    "        # hexadecimal\n",
    "        print(f\"{i:04x}: \", end=\"\")\n",
    "        for r in row:\n",
    "            if start <= r < stop:\n",
    "                print(f\"{x[r]:02x}\", end=\"\")\n",
    "            else:\n",
    "                print(\"  \", end=\"\")\n",
    "            if r % 4 == 3:\n",
    "                print(\" \", end=\"\")\n",
    "        # ASCII\n",
    "        print(\"   \", ''.join(chr(c) if 0x20 <= c <= 0x7e else '.' for c in x[i:min(i + 8, len(x))]), \" \", end=\"\")\n",
    "        # Int32\n",
    "        for j in range(i, min(i + 8, stop), 4):\n",
    "            if start <= j < stop and j + 3 < stop:\n",
    "                print(f\"{int.from_bytes(x[j:j + 4], 'little'):12d} \", end=\"\")\n",
    "            else:\n",
    "                print(\" \" * 12, end=\"\")\n",
    "        print()\n",
    "\n",
    "def summarize(x, prefix=\"\"):\n",
    "    if isinstance(x, str):\n",
    "        print(f\"{type(x).__name__}: \\\"{x}\\\"\")\n",
    "    elif isinstance(x, (int, float)):\n",
    "        print(f\"{type(x).__name__}: {x}\")\n",
    "    elif isinstance(x, tuple):\n",
    "        print(\"(\")\n",
    "        for i, t in enumerate(x):\n",
    "            if isinstance(t, str):\n",
    "                print(f\"\\\"{t}\\\"\", end=\"\")\n",
    "            elif isinstance(t, (int, float)):\n",
    "                print(t, end=\"\")\n",
    "            else:\n",
    "                summarize(t, prefix + \"  \")\n",
    "            if i < len(x) - 1:\n",
    "                print(\",\", end=\"\")\n",
    "        print(\")\")\n",
    "    elif isinstance(x, dict):\n",
    "        print(f\"{type(x).__name__}: {'{}' if not x else ''}\",end=\"\")\n",
    "        for k, v in x.items():\n",
    "            print(f\"\\n{prefix}  \\\"{k}\\\"=>\", end=\"\")\n",
    "            summarize(v, prefix + \"    \")\n",
    "    elif isinstance(x, np.ndarray):\n",
    "        print(f\"{type(x).__name__}: \", end=\"\")\n",
    "        truncate = len(x) > 10\n",
    "        maxelt = 10 if truncate else len(x)\n",
    "        print(np.array2string(x[:maxelt], prefix=prefix + \"  \", suffix=(\",…\" if truncate else \"\"), separator=\", \"))\n",
    "    else:\n",
    "        print(f\"{type(x).__name__}: {x}\",end=\"\")\n",
    "\n"
   ]
  },
  {
   "cell_type": "code",
   "execution_count": 4,
   "id": "92a0b8fc-e3df-494d-a332-f84aa061cf77",
   "metadata": {},
   "outputs": [
    {
     "name": "stdout",
     "output_type": "stream",
     "text": [
      "dict: \n",
      "\n",
      "  \"who\"=>int: 17\n"
     ]
    }
   ],
   "source": [
    "summarize({\"who\":17})"
   ]
  },
  {
   "cell_type": "code",
   "execution_count": null,
   "id": "b9b3ecbf-594f-4dc2-8c8b-7acc1643f880",
   "metadata": {},
   "outputs": [],
   "source": []
  }
 ],
 "metadata": {
  "kernelspec": {
   "display_name": "Python 3 (ipykernel)",
   "language": "python",
   "name": "python3"
  },
  "language_info": {
   "codemirror_mode": {
    "name": "ipython",
    "version": 3
   },
   "file_extension": ".py",
   "mimetype": "text/x-python",
   "name": "python",
   "nbconvert_exporter": "python",
   "pygments_lexer": "ipython3",
   "version": "3.12.9"
  }
 },
 "nbformat": 4,
 "nbformat_minor": 5
}
