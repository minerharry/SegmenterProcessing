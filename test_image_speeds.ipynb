{
 "cells": [
  {
   "cell_type": "code",
   "execution_count": 39,
   "metadata": {},
   "outputs": [],
   "source": [
    "import numpy as np\n",
    "from skimage.io import imread, imsave\n",
    "from pathlib import Path\n",
    "import os\n",
    "nimages = 100\n",
    "# imagesize = (400,400)\n",
    "dtype = np.int16\n",
    "\n",
    "# images:list[np.ndarray] = [np.random.randint(np.iinfo(dtype).min,np.iinfo(dtype).max,size=imagesize,dtype=dtype) for _ in range(nimages)]\n",
    "p = Path(r\"C:\\Users\\Harrison Truscott\\Documents\\GitHub\\cell-tracking\\gcp_transfer\\cellmasks\\2023.06.07\\Cell\")\n",
    "images = [imread(p/m).astype(dtype) for m in os.listdir(p)[:nimages]]\n",
    "# dtype = images[0].dtype\n",
    "imagesize = images[0].shape\n",
    "savefolder = Path(\"temp/imagespeed\")\n",
    "os.makedirs(savefolder,exist_ok=True)"
   ]
  },
  {
   "cell_type": "code",
   "execution_count": 40,
   "metadata": {},
   "outputs": [
    {
     "name": "stdout",
     "output_type": "stream",
     "text": [
      "1.17 s ± 339 ms per loop (mean ± std. dev. of 7 runs, 1 loop each)\n"
     ]
    }
   ],
   "source": [
    "%%timeit\n",
    "for i,im in enumerate(images):\n",
    "    imsave(savefolder/f\"{i}.tif\",im.view(np.uint16),check_contrast=False)"
   ]
  },
  {
   "cell_type": "code",
   "execution_count": 42,
   "metadata": {},
   "outputs": [
    {
     "name": "stdout",
     "output_type": "stream",
     "text": [
      "10.6 s ± 1.92 s per loop (mean ± std. dev. of 7 runs, 1 loop each)\n"
     ]
    }
   ],
   "source": [
    "%%timeit\n",
    "for i,im in enumerate(images):\n",
    "    imsave(savefolder/f\"{i}.png\",im.view(np.uint16),check_contrast=False)"
   ]
  },
  {
   "cell_type": "code",
   "execution_count": 43,
   "metadata": {},
   "outputs": [
    {
     "name": "stdout",
     "output_type": "stream",
     "text": [
      "477 ms ± 29.7 ms per loop (mean ± std. dev. of 7 runs, 1 loop each)\n"
     ]
    }
   ],
   "source": [
    "%%timeit\n",
    "for i,_ in enumerate(images):\n",
    "    im = imread(savefolder/f\"{i}.tif\")"
   ]
  },
  {
   "cell_type": "code",
   "execution_count": 44,
   "metadata": {},
   "outputs": [
    {
     "name": "stdout",
     "output_type": "stream",
     "text": [
      "1.74 s ± 344 ms per loop (mean ± std. dev. of 7 runs, 1 loop each)\n"
     ]
    }
   ],
   "source": [
    "%%timeit\n",
    "for i,_ in enumerate(images):\n",
    "    im = imread(savefolder/f\"{i}.png\")"
   ]
  },
  {
   "cell_type": "code",
   "execution_count": 46,
   "metadata": {},
   "outputs": [
    {
     "name": "stdout",
     "output_type": "stream",
     "text": [
      "tif: 4608256.0\n",
      "png: 5132.98\n"
     ]
    }
   ],
   "source": [
    "import os\n",
    "tifsize = 0\n",
    "pngsize = 0\n",
    "for i,_ in enumerate(images):\n",
    "    tifsize += os.stat(savefolder/f\"{i}.tif\").st_size\n",
    "    pngsize += os.stat(savefolder/f\"{i}.png\").st_size\n",
    "\n",
    "tifsize /= nimages\n",
    "pngsize /= nimages\n",
    "print(\"tif:\",tifsize)\n",
    "print(\"png:\",pngsize)"
   ]
  },
  {
   "cell_type": "code",
   "execution_count": 35,
   "metadata": {},
   "outputs": [
    {
     "data": {
      "text/plain": [
       "numpy.uint16"
      ]
     },
     "execution_count": 35,
     "metadata": {},
     "output_type": "execute_result"
    }
   ],
   "source": [
    "dtype"
   ]
  },
  {
   "cell_type": "markdown",
   "metadata": {},
   "source": [
    "Results:\n",
    "\n",
    "Random images:\n",
    "uint8:\n",
    "saving:\n",
    "tif: 353ms,\n",
    "png: 1920ms,\n",
    "reading:\n",
    "tif: 172ms,\n",
    "png: 475ms,\n",
    "size:\n",
    "tif: 160kb,\n",
    "png: 160kb\n",
    "\n",
    "uint16:\n",
    "saving:\n",
    "tif: 546ms,\n",
    "png: 4350ms,\n",
    "reading:\n",
    "tif: 484ms,\n",
    "png: 914,\n",
    "size:\n",
    "tif: 320 KB,\n",
    "png: 320 KB\n",
    "\n",
    "Cell Masks:\n",
    "uint8:\n",
    "saving:\n",
    "tif: 647ms,\n",
    "png: 11000ms,\n",
    "reading:\n",
    "tif: 788ms,\n",
    "png: 2.28s,\n",
    "size:\n",
    "tif: 2.3MB,\n",
    "png: 5KB\n",
    "\n",
    "uint16:\n",
    "saving:\n",
    "tif: 1270ms,\n",
    "png: 11000ms,\n",
    "reading:\n",
    "tif: 589ms,\n",
    "png: 1800ms,\n",
    "size:\n",
    "tif: 4.6MB,\n",
    "png: 5KB\n",
    "\n",
    "int16(view):\n",
    "saving:\n",
    "tif:1170ms,\n",
    "png:10700ms,\n",
    "reading:\n",
    "tif:477ms,\n",
    "png:1740ms,\n",
    "size: 4.6MB,\n",
    "png: 5KB\n"
   ]
  }
 ],
 "metadata": {
  "kernelspec": {
   "display_name": "Python 3.10.4 64-bit",
   "language": "python",
   "name": "python3"
  },
  "language_info": {
   "codemirror_mode": {
    "name": "ipython",
    "version": 3
   },
   "file_extension": ".py",
   "mimetype": "text/x-python",
   "name": "python",
   "nbconvert_exporter": "python",
   "pygments_lexer": "ipython3",
   "version": "3.10.4"
  },
  "orig_nbformat": 4,
  "vscode": {
   "interpreter": {
    "hash": "1fab5b2657ca90398e2f7d6e349d246f9168433ae93312ee9b22cab62345ecaa"
   }
  }
 },
 "nbformat": 4,
 "nbformat_minor": 2
}
