{
 "cells": [
  {
   "cell_type": "code",
   "execution_count": 1,
   "metadata": {},
   "outputs": [],
   "source": [
    "import pickle\n",
    "\n",
    "fname = r\"C:\\Users\\Harrison Truscott\\Documents\\GitHub\\cell-tracking\\gcp_transfer\\Segmentation Analysis\\2023.3.24 OptoTiam Exp 50 $tracking_refactor\\Analysis Parameters\\reading_cells_parameters.pkl\"\n",
    "with open(fname,\"rb\") as f:\n",
    "    params = pickle.load(f)"
   ]
  },
  {
   "cell_type": "code",
   "execution_count": 2,
   "metadata": {},
   "outputs": [],
   "source": [
    "from pathlib import Path\n",
    "from scipy import ndimage\n",
    "from skimage.io import imread\n",
    "from libraries.filter_cells_fns import getcells\n",
    "cfolder = Path(r\"C:\\Users\\Harrison Truscott\\Documents\\GitHub\\cell-tracking\\gcp_transfer\\cellmasks\\2023.3.24 OptoTiam Exp 50\\Cell\")\n",
    "nfolder = Path(r\"C:\\Users\\Harrison Truscott\\Documents\\GitHub\\cell-tracking\\gcp_transfer\\nucmasks\\2023.3.24 OptoTiam Exp 50\\Nucleus\")\n",
    "name = \"p_s1_t1.TIF\"\n",
    "\n",
    "filename = cfolder/name\n",
    "filenamenuc = Path(\"in\")/\"nuc_in.TIF\"\n",
    "mem = imread(filename);\n",
    "mem = ndimage.binary_fill_holes(mem);\n",
    "mem[mem != 0] = 1;\n",
    "nuc = imread(filenamenuc);\n",
    "nuc[nuc != 0] = 1;\n",
    "# params[\"remove_multi_nuclei_cells\"] = False\n",
    "metrics, labeledmem, labelednuc = getcells(mem,nuc,params,return_metrics=True,centertype=\"approximate-medoid\");"
   ]
  },
  {
   "cell_type": "code",
   "execution_count": 3,
   "metadata": {},
   "outputs": [
    {
     "data": {
      "text/html": [
       "<div>\n",
       "<style scoped>\n",
       "    .dataframe tbody tr th:only-of-type {\n",
       "        vertical-align: middle;\n",
       "    }\n",
       "\n",
       "    .dataframe tbody tr th {\n",
       "        vertical-align: top;\n",
       "    }\n",
       "\n",
       "    .dataframe thead th {\n",
       "        text-align: right;\n",
       "    }\n",
       "</style>\n",
       "<table border=\"1\" class=\"dataframe\">\n",
       "  <thead>\n",
       "    <tr style=\"text-align: right;\">\n",
       "      <th></th>\n",
       "      <th>label</th>\n",
       "      <th>area</th>\n",
       "      <th>approximate-medoidx</th>\n",
       "      <th>approximate-medoidy</th>\n",
       "      <th>filter code</th>\n",
       "      <th>filter code name</th>\n",
       "    </tr>\n",
       "  </thead>\n",
       "  <tbody>\n",
       "    <tr>\n",
       "      <th>0</th>\n",
       "      <td>1</td>\n",
       "      <td>1491</td>\n",
       "      <td>1260</td>\n",
       "      <td>46</td>\n",
       "      <td>0</td>\n",
       "      <td>valid</td>\n",
       "    </tr>\n",
       "    <tr>\n",
       "      <th>1</th>\n",
       "      <td>2</td>\n",
       "      <td>1429</td>\n",
       "      <td>1251</td>\n",
       "      <td>95</td>\n",
       "      <td>0</td>\n",
       "      <td>valid</td>\n",
       "    </tr>\n",
       "    <tr>\n",
       "      <th>2</th>\n",
       "      <td>4</td>\n",
       "      <td>1377</td>\n",
       "      <td>106</td>\n",
       "      <td>209</td>\n",
       "      <td>0</td>\n",
       "      <td>valid</td>\n",
       "    </tr>\n",
       "    <tr>\n",
       "      <th>3</th>\n",
       "      <td>8</td>\n",
       "      <td>741</td>\n",
       "      <td>1148</td>\n",
       "      <td>271</td>\n",
       "      <td>0</td>\n",
       "      <td>valid</td>\n",
       "    </tr>\n",
       "    <tr>\n",
       "      <th>4</th>\n",
       "      <td>10</td>\n",
       "      <td>759</td>\n",
       "      <td>442</td>\n",
       "      <td>419</td>\n",
       "      <td>0</td>\n",
       "      <td>valid</td>\n",
       "    </tr>\n",
       "    <tr>\n",
       "      <th>5</th>\n",
       "      <td>16</td>\n",
       "      <td>1080</td>\n",
       "      <td>988</td>\n",
       "      <td>724</td>\n",
       "      <td>0</td>\n",
       "      <td>valid</td>\n",
       "    </tr>\n",
       "    <tr>\n",
       "      <th>6</th>\n",
       "      <td>18</td>\n",
       "      <td>2376</td>\n",
       "      <td>1297</td>\n",
       "      <td>856</td>\n",
       "      <td>0</td>\n",
       "      <td>valid</td>\n",
       "    </tr>\n",
       "    <tr>\n",
       "      <th>7</th>\n",
       "      <td>19</td>\n",
       "      <td>1574</td>\n",
       "      <td>194</td>\n",
       "      <td>890</td>\n",
       "      <td>0</td>\n",
       "      <td>valid</td>\n",
       "    </tr>\n",
       "    <tr>\n",
       "      <th>8</th>\n",
       "      <td>20</td>\n",
       "      <td>1043</td>\n",
       "      <td>341</td>\n",
       "      <td>994</td>\n",
       "      <td>0</td>\n",
       "      <td>valid</td>\n",
       "    </tr>\n",
       "    <tr>\n",
       "      <th>9</th>\n",
       "      <td>32771</td>\n",
       "      <td>415</td>\n",
       "      <td>1335</td>\n",
       "      <td>140</td>\n",
       "      <td>8</td>\n",
       "      <td>touching_edge</td>\n",
       "    </tr>\n",
       "    <tr>\n",
       "      <th>10</th>\n",
       "      <td>32781</td>\n",
       "      <td>1741</td>\n",
       "      <td>1311</td>\n",
       "      <td>666</td>\n",
       "      <td>8</td>\n",
       "      <td>touching_edge</td>\n",
       "    </tr>\n",
       "    <tr>\n",
       "      <th>11</th>\n",
       "      <td>32782</td>\n",
       "      <td>1672</td>\n",
       "      <td>22</td>\n",
       "      <td>653</td>\n",
       "      <td>8</td>\n",
       "      <td>touching_edge</td>\n",
       "    </tr>\n",
       "    <tr>\n",
       "      <th>12</th>\n",
       "      <td>32789</td>\n",
       "      <td>1820</td>\n",
       "      <td>148</td>\n",
       "      <td>1008</td>\n",
       "      <td>8</td>\n",
       "      <td>touching_edge</td>\n",
       "    </tr>\n",
       "    <tr>\n",
       "      <th>13</th>\n",
       "      <td>36869</td>\n",
       "      <td>2</td>\n",
       "      <td>118</td>\n",
       "      <td>192</td>\n",
       "      <td>9</td>\n",
       "      <td>too_small</td>\n",
       "    </tr>\n",
       "    <tr>\n",
       "      <th>14</th>\n",
       "      <td>36870</td>\n",
       "      <td>247</td>\n",
       "      <td>1308</td>\n",
       "      <td>218</td>\n",
       "      <td>9</td>\n",
       "      <td>too_small</td>\n",
       "    </tr>\n",
       "    <tr>\n",
       "      <th>15</th>\n",
       "      <td>36873</td>\n",
       "      <td>56</td>\n",
       "      <td>514</td>\n",
       "      <td>350</td>\n",
       "      <td>9</td>\n",
       "      <td>too_small</td>\n",
       "    </tr>\n",
       "    <tr>\n",
       "      <th>16</th>\n",
       "      <td>36875</td>\n",
       "      <td>348</td>\n",
       "      <td>1302</td>\n",
       "      <td>532</td>\n",
       "      <td>9</td>\n",
       "      <td>too_small</td>\n",
       "    </tr>\n",
       "    <tr>\n",
       "      <th>17</th>\n",
       "      <td>36876</td>\n",
       "      <td>474</td>\n",
       "      <td>454</td>\n",
       "      <td>539</td>\n",
       "      <td>9</td>\n",
       "      <td>too_small</td>\n",
       "    </tr>\n",
       "    <tr>\n",
       "      <th>18</th>\n",
       "      <td>36879</td>\n",
       "      <td>415</td>\n",
       "      <td>1068</td>\n",
       "      <td>697</td>\n",
       "      <td>9</td>\n",
       "      <td>too_small</td>\n",
       "    </tr>\n",
       "    <tr>\n",
       "      <th>19</th>\n",
       "      <td>36881</td>\n",
       "      <td>376</td>\n",
       "      <td>456</td>\n",
       "      <td>722</td>\n",
       "      <td>9</td>\n",
       "      <td>too_small</td>\n",
       "    </tr>\n",
       "    <tr>\n",
       "      <th>20</th>\n",
       "      <td>45063</td>\n",
       "      <td>3993</td>\n",
       "      <td>1011</td>\n",
       "      <td>273</td>\n",
       "      <td>11</td>\n",
       "      <td>two_nuclei</td>\n",
       "    </tr>\n",
       "  </tbody>\n",
       "</table>\n",
       "</div>"
      ],
      "text/plain": [
       "    label  area  approximate-medoidx  approximate-medoidy  filter code  \\\n",
       "0       1  1491                 1260                   46            0   \n",
       "1       2  1429                 1251                   95            0   \n",
       "2       4  1377                  106                  209            0   \n",
       "3       8   741                 1148                  271            0   \n",
       "4      10   759                  442                  419            0   \n",
       "5      16  1080                  988                  724            0   \n",
       "6      18  2376                 1297                  856            0   \n",
       "7      19  1574                  194                  890            0   \n",
       "8      20  1043                  341                  994            0   \n",
       "9   32771   415                 1335                  140            8   \n",
       "10  32781  1741                 1311                  666            8   \n",
       "11  32782  1672                   22                  653            8   \n",
       "12  32789  1820                  148                 1008            8   \n",
       "13  36869     2                  118                  192            9   \n",
       "14  36870   247                 1308                  218            9   \n",
       "15  36873    56                  514                  350            9   \n",
       "16  36875   348                 1302                  532            9   \n",
       "17  36876   474                  454                  539            9   \n",
       "18  36879   415                 1068                  697            9   \n",
       "19  36881   376                  456                  722            9   \n",
       "20  45063  3993                 1011                  273           11   \n",
       "\n",
       "   filter code name  \n",
       "0             valid  \n",
       "1             valid  \n",
       "2             valid  \n",
       "3             valid  \n",
       "4             valid  \n",
       "5             valid  \n",
       "6             valid  \n",
       "7             valid  \n",
       "8             valid  \n",
       "9     touching_edge  \n",
       "10    touching_edge  \n",
       "11    touching_edge  \n",
       "12    touching_edge  \n",
       "13        too_small  \n",
       "14        too_small  \n",
       "15        too_small  \n",
       "16        too_small  \n",
       "17        too_small  \n",
       "18        too_small  \n",
       "19        too_small  \n",
       "20       two_nuclei  "
      ]
     },
     "execution_count": 3,
     "metadata": {},
     "output_type": "execute_result"
    }
   ],
   "source": [
    "metrics"
   ]
  },
  {
   "cell_type": "code",
   "execution_count": null,
   "metadata": {},
   "outputs": [],
   "source": [
    "from skimage.io import imsave\n",
    "import numpy as np\n",
    "outpath = Path(\"out\")/\"cells\"/(filename.with_suffix(\".png\").name)\n",
    "imsave(outpath, labeledmem.view(np.uint16),check_contrast=False);\n",
    "nucpath = Path(\"out\")/\"nucs\"/(filename.with_suffix(\".png\").name)\n",
    "imsave(nucpath, labelednuc.view(np.uint16),check_contrast=False)"
   ]
  },
  {
   "cell_type": "code",
   "execution_count": 23,
   "metadata": {},
   "outputs": [
    {
     "data": {
      "text/plain": [
       "<matplotlib.image.AxesImage at 0x1ab03ccb3a0>"
      ]
     },
     "execution_count": 23,
     "metadata": {},
     "output_type": "execute_result"
    },
    {
     "data": {
      "image/png": "[encoded data removed]",
      "text/plain": [
       "<Figure size 432x288 with 1 Axes>"
      ]
     },
     "metadata": {
      "needs_background": "light"
     },
     "output_type": "display_data"
    }
   ],
   "source": [
    "im = imread(outpath)\n",
    "import matplotlib.pyplot as plt\n",
    "plt.imshow(im)"
   ]
  },
  {
   "cell_type": "code",
   "execution_count": 24,
   "metadata": {},
   "outputs": [
    {
     "data": {
      "text/plain": [
       "0"
      ]
     },
     "execution_count": 24,
     "metadata": {},
     "output_type": "execute_result"
    }
   ],
   "source": [
    "im.min()"
   ]
  },
  {
   "cell_type": "code",
   "execution_count": 25,
   "metadata": {},
   "outputs": [
    {
     "data": {
      "text/plain": [
       "array([    0,     1,     2,     4,     8,    10,    16,    18,    19,\n",
       "          20, 32771, 32781, 32782, 32789, 36869, 36870, 36873, 36875,\n",
       "       36876, 36879, 36881, 45063], dtype=uint16)"
      ]
     },
     "execution_count": 25,
     "metadata": {},
     "output_type": "execute_result"
    }
   ],
   "source": [
    "np.unique(im)"
   ]
  },
  {
   "cell_type": "code",
   "execution_count": 30,
   "metadata": {},
   "outputs": [
    {
     "name": "stderr",
     "output_type": "stream",
     "text": [
      "C:\\Windows\\Temp\\ipykernel_24428\\2880635593.py:6: UserWarning: C:\\Users\\Harrison Truscott\\Documents\\GitHub\\SegmenterProcessing\\out\\coded\\p_s1_t1.png is a low contrast image\n",
      "  imsave(Path(\"out/coded\")/filename.with_suffix(\".png\").name,codes)\n"
     ]
    },
    {
     "name": "stdout",
     "output_type": "stream",
     "text": [
      "[ 0  8  9 11 18]\n"
     ]
    }
   ],
   "source": [
    "from libraries.filter_cells_fns import CellFilters\n",
    "codes = CellFilters.get_code(im)\n",
    "codes[codes==0] = 18\n",
    "codes[codes==-1] = 0\n",
    "codes = codes.astype(np.uint8)\n",
    "imsave(Path(\"out/coded\")/filename.with_suffix(\".png\").name,codes)\n",
    "i = imread(Path(\"out/coded\")/filename.with_suffix(\".png\").name)\n",
    "print(np.unique(i))\n",
    "# CellFilters(np.unique(codes))"
   ]
  },
  {
   "cell_type": "code",
   "execution_count": 35,
   "metadata": {},
   "outputs": [
    {
     "name": "stderr",
     "output_type": "stream",
     "text": [
      "C:\\Windows\\Temp\\ipykernel_24428\\3799021875.py:2: UserWarning: C:\\Users\\Harrison Truscott\\Documents\\GitHub\\SegmenterProcessing\\out\\labels\\p_s1_t1.png is a low contrast image\n",
      "  imsave(Path(\"out/labels\")/filename.with_suffix(\".png\").name,labels)\n"
     ]
    },
    {
     "data": {
      "text/plain": [
       "array([ 0,  1,  2,  3,  4,  5,  6,  7,  8,  9, 10, 11, 12, 13, 14, 15, 16,\n",
       "       17, 18, 19, 20, 21], dtype=uint16)"
      ]
     },
     "execution_count": 35,
     "metadata": {},
     "output_type": "execute_result"
    }
   ],
   "source": [
    "labels = CellFilters.get_label(im)\n",
    "imsave(Path(\"out/labels\")/filename.with_suffix(\".png\").name,labels)\n",
    "np.unique(labels)"
   ]
  },
  {
   "cell_type": "code",
   "execution_count": 27,
   "metadata": {},
   "outputs": [
    {
     "data": {
      "text/plain": [
       "['0b0',\n",
       " '0b1',\n",
       " '0b10',\n",
       " '0b100',\n",
       " '0b1000',\n",
       " '0b1010',\n",
       " '0b10000',\n",
       " '0b10010',\n",
       " '0b10011',\n",
       " '0b10100',\n",
       " '0b1000000000000011',\n",
       " '0b1000000000001101',\n",
       " '0b1000000000001110',\n",
       " '0b1000000000010101',\n",
       " '0b1001000000000101',\n",
       " '0b1001000000000110',\n",
       " '0b1001000000001001',\n",
       " '0b1001000000001011',\n",
       " '0b1001000000001100',\n",
       " '0b1001000000001111',\n",
       " '0b1001000000010001',\n",
       " '0b1011000000000111']"
      ]
     },
     "execution_count": 27,
     "metadata": {},
     "output_type": "execute_result"
    }
   ],
   "source": [
    "[bin(c) for c in np.unique(im)]"
   ]
  },
  {
   "cell_type": "code",
   "execution_count": 28,
   "metadata": {},
   "outputs": [
    {
     "name": "stdout",
     "output_type": "stream",
     "text": [
      "[ 0  1  2  3  4  5  6  7  8  9 10 11 12 13 14 15 16 17 18 19 20 21]\n",
      "[ 0  1  2  4  8 10 16 18 19 20  3 13 14 21  5  6  9 11 12 15 17  7]\n"
     ]
    }
   ],
   "source": [
    "print(np.unique(CellFilters.get_label(im)))\n",
    "print(CellFilters.get_label(np.unique(im)))"
   ]
  },
  {
   "cell_type": "code",
   "execution_count": null,
   "metadata": {},
   "outputs": [],
   "source": []
  }
 ],
 "metadata": {
  "kernelspec": {
   "display_name": "Python 3 (ipykernel)",
   "language": "python",
   "name": "python3"
  },
  "language_info": {
   "codemirror_mode": {
    "name": "ipython",
    "version": 3
   },
   "file_extension": ".py",
   "mimetype": "text/x-python",
   "name": "python",
   "nbconvert_exporter": "python",
   "pygments_lexer": "ipython3",
   "version": "3.10.4"
  },
  "vscode": {
   "interpreter": {
    "hash": "1fab5b2657ca90398e2f7d6e349d246f9168433ae93312ee9b22cab62345ecaa"
   }
  }
 },
 "nbformat": 4,
 "nbformat_minor": 4
}
